{
 "cells": [
  {
   "cell_type": "markdown",
   "source": [
    "# chapter3 (신경망)"
   ],
   "metadata": {}
  },
  {
   "cell_type": "markdown",
   "source": [
    "## 3.1 퍼셉트론에서 신경망으로"
   ],
   "metadata": {}
  },
  {
   "cell_type": "markdown",
   "source": [
    "### 3.1.1 신경망의 예"
   ],
   "metadata": {}
  },
  {
   "cell_type": "markdown",
   "source": [
    "신경망의 구조  \r\n",
    "input layer -> hidden layer -> output layer  \r\n",
    "신경망의 층 = len(hidden layer neuron)+ len(ouput layer neuron)"
   ],
   "metadata": {}
  },
  {
   "cell_type": "markdown",
   "source": [
    "### 3.1.2 퍼셉트론 복습"
   ],
   "metadata": {}
  },
  {
   "cell_type": "markdown",
   "source": [
    "y = 0 (-b + w1*x1 + w2*x2 =< 0)  \r\n",
    "y = 1 (-b + w1*x1 + w2*x2 > 0)  \r\n",
    "에서의 함수를 h(x) 라 하면  \r\n",
    "h(x) = [\r\n",
    "    0(x<=0),\r\n",
    "    1(x>0)\r\n",
    "]"
   ],
   "metadata": {}
  },
  {
   "cell_type": "markdown",
   "source": [
    "### 3.1.3 활성화 함수의 등장"
   ],
   "metadata": {}
  },
  {
   "cell_type": "markdown",
   "source": [
    "위의 함수 h(x) 처럼 입력 신호의 총합을 출력 신호로 변환하는 함수를 활성화함수(activation function)이라 한다.  \r\n",
    "a = b + w1*x1 + w2*x2 -> input signal  \r\n",
    "y = h(a) -> output signal"
   ],
   "metadata": {}
  },
  {
   "cell_type": "markdown",
   "source": [
    "## 3.2 활성화 함수"
   ],
   "metadata": {}
  },
  {
   "cell_type": "markdown",
   "source": [
    "퍼셉트론은 threshold 값을 경계로 output이 바뀌는 step function을 활성화 함수로 이용한다."
   ],
   "metadata": {}
  },
  {
   "cell_type": "markdown",
   "source": [
    "### 3.2.1 시그모이드 함수"
   ],
   "metadata": {}
  },
  {
   "cell_type": "markdown",
   "source": [
    "sigmoid_function = h(x) = 1/(1+exp(-x))"
   ],
   "metadata": {}
  },
  {
   "cell_type": "markdown",
   "source": [
    "### 3.2.2 계단 함수 구현하기"
   ],
   "metadata": {}
  },
  {
   "cell_type": "code",
   "execution_count": 2,
   "source": [
    "def step_function(x):\r\n",
    "    if x > 0:\r\n",
    "        return 1\r\n",
    "    else:\r\n",
    "        return 0"
   ],
   "outputs": [],
   "metadata": {}
  },
  {
   "cell_type": "code",
   "execution_count": 3,
   "source": [
    "# numpy array를 input으로 받을 수 있게 수정\r\n",
    "def step_function(x):\r\n",
    "    y = x > 0\r\n",
    "    return y.astype(np.int)"
   ],
   "outputs": [],
   "metadata": {}
  },
  {
   "cell_type": "markdown",
   "source": [
    "### 3.2.3 계단 함수의 그래프"
   ],
   "metadata": {}
  },
  {
   "cell_type": "code",
   "execution_count": 15,
   "source": [
    "# plot step function\r\n",
    "import numpy as np\r\n",
    "import matplotlib.pyplot as plt\r\n",
    "\r\n",
    "def step_function(x):\r\n",
    "    return np.array(x > 0, dtype=np.int)\r\n",
    "\r\n",
    "x = np.arange(-5.0, 5.0, 0.1)\r\n",
    "y = step_function(x)\r\n",
    "plt.plot(x,y)\r\n",
    "plt.ylim(-0.1, 1.1)\r\n",
    "plt.show()"
   ],
   "outputs": [
    {
     "output_type": "display_data",
     "data": {
      "text/plain": [
       "<Figure size 432x288 with 1 Axes>"
      ],
      "image/png": "[encoded data removed]"
     },
     "metadata": {
      "needs_background": "light"
     }
    }
   ],
   "metadata": {}
  },
  {
   "cell_type": "markdown",
   "source": [
    "### 3.2.4 시그모이드 함수 구현하기"
   ],
   "metadata": {}
  },
  {
   "cell_type": "code",
   "execution_count": 7,
   "source": [
    "def sigmoid(x):\r\n",
    "    return 1 / (1 + np.exp(-x))\r\n",
    "\r\n",
    "x = np.array([-1.0, 1.0, 2.0])\r\n",
    "sigmoid(x)"
   ],
   "outputs": [
    {
     "output_type": "execute_result",
     "data": {
      "text/plain": [
       "array([0.26894142, 0.73105858, 0.88079708])"
      ]
     },
     "metadata": {},
     "execution_count": 7
    }
   ],
   "metadata": {}
  },
  {
   "cell_type": "code",
   "execution_count": 14,
   "source": [
    "# plot sigmoid function\r\n",
    "\r\n",
    "x = np.arange(-5.0, 5.0, 0.1)\r\n",
    "y = sigmoid(x)\r\n",
    "plt.plot(x, y)\r\n",
    "plt.ylim(-0.1, 1.1)\r\n",
    "plt.xlim(-5, 5)\r\n",
    "plt.show()"
   ],
   "outputs": [
    {
     "output_type": "display_data",
     "data": {
      "text/plain": [
       "<Figure size 432x288 with 1 Axes>"
      ],
      "image/png": "[encoded data removed]"
     },
     "metadata": {
      "needs_background": "light"
     }
    }
   ],
   "metadata": {}
  },
  {
   "cell_type": "markdown",
   "source": [
    "### 3.2.5 시그모이드 함수와 계단 함수 비교"
   ],
   "metadata": {}
  },
  {
   "cell_type": "code",
   "execution_count": 16,
   "source": [
    "# diff step_function, sigmoid_function\r\n",
    "\r\n",
    "x1 = np.arange(-5.0, 5.0, 0.1)\r\n",
    "y1 = step_function(x)\r\n",
    "x2 = np.arange(-5.0, 5.0, 0.1)\r\n",
    "y2 = sigmoid(x)\r\n",
    "\r\n",
    "plt.ylim(-0.1, 1.1)\r\n",
    "plt.xlim(-5, 5)\r\n",
    "\r\n",
    "plt.plot(x1,y1)\r\n",
    "plt.plot(x2, y2)\r\n",
    "plt.show()"
   ],
   "outputs": [
    {
     "output_type": "display_data",
     "data": {
      "text/plain": [
       "<Figure size 432x288 with 1 Axes>"
      ],
      "image/png": "[encoded data removed]"
     },
     "metadata": {
      "needs_background": "light"
     }
    }
   ],
   "metadata": {}
  },
  {
   "cell_type": "markdown",
   "source": [
    "step_function : discontinuous function  \r\n",
    "sigmoid_function : continuous function"
   ],
   "metadata": {}
  },
  {
   "cell_type": "markdown",
   "source": [
    "### 3.2.6 비선형 함수"
   ],
   "metadata": {}
  },
  {
   "cell_type": "markdown",
   "source": [
    "step_function과 sigmoid_function 모두 non-linear function이다.  \r\n",
    "neural network에서는 activation function으로 non-linear function을 사용해야 한다.  \r\n",
    "-> linear function을 사용하면 층을 깊게하는 의미가 없어진다.  \r\n",
    "(input value가 linear function을 여러번 통과해도 결국 linear한 function을 통과하는 것과 같음)"
   ],
   "metadata": {}
  },
  {
   "cell_type": "markdown",
   "source": [
    "### 3.2.7 ReLU 함수"
   ],
   "metadata": {}
  },
  {
   "cell_type": "markdown",
   "source": [
    "ReLu : Rectified Linear Unit  \r\n",
    "h(x) = [x(x>0), 0(x<=0)]"
   ],
   "metadata": {}
  },
  {
   "cell_type": "code",
   "execution_count": 18,
   "source": [
    "# plot ReLu function\r\n",
    "def relu(x):\r\n",
    "    return np.maximum(0, x)\r\n",
    "\r\n",
    "x = np.arange(-5.0, 5.0, 0.1)\r\n",
    "y = relu(x)\r\n",
    "plt.plot(x, y)\r\n",
    "plt.ylim(-0.1, 5)\r\n",
    "plt.xlim(-5, 5)\r\n",
    "plt.show()"
   ],
   "outputs": [
    {
     "output_type": "display_data",
     "data": {
      "text/plain": [
       "<Figure size 432x288 with 1 Axes>"
      ],
      "image/png": "[encoded data removed]"
     },
     "metadata": {
      "needs_background": "light"
     }
    }
   ],
   "metadata": {}
  },
  {
   "cell_type": "markdown",
   "source": [
    "## 3.3 다차원 배열의 계산"
   ],
   "metadata": {}
  },
  {
   "cell_type": "markdown",
   "source": [
    "### 3.3.1 다차원 배열"
   ],
   "metadata": {}
  },
  {
   "cell_type": "markdown",
   "source": [
    "np.ndim() -> n dimension  \r\n",
    "np.shape -> shape of matrix  \r\n",
    "m_by_n_matrix.dot(n_by_a_matrix).shape == m_by_a_matrix"
   ],
   "metadata": {}
  },
  {
   "cell_type": "markdown",
   "source": [
    "### 3.3.3 신경망에서의 행렬 곱"
   ],
   "metadata": {}
  },
  {
   "cell_type": "markdown",
   "source": [
    "shape에 주의하며 구현해야함"
   ],
   "metadata": {}
  },
  {
   "cell_type": "markdown",
   "source": [
    "## 3.4 3층 신경망 구현하기"
   ],
   "metadata": {}
  },
  {
   "cell_type": "markdown",
   "source": [
    "### 3.4.1 표기법 설명"
   ],
   "metadata": {}
  },
  {
   "cell_type": "markdown",
   "source": [
    "책 참고"
   ],
   "metadata": {}
  },
  {
   "cell_type": "markdown",
   "source": [
    "### 3.4.2 각 층의 신호 전달 구현하기\r\n",
    "### 3.4.3 구현 정리"
   ],
   "metadata": {}
  },
  {
   "cell_type": "code",
   "execution_count": 19,
   "source": [
    "def identity_function(x):\r\n",
    "    return x\r\n",
    "\r\n",
    "def init_network():\r\n",
    "    network = {}\r\n",
    "    network['W1'] = np.array([[0.1, 0.3, 0.5], [0.2, 0.4, 0.6]])\r\n",
    "    network['b1'] = np.array([0.1, 0.2, 0.3])\r\n",
    "    network['W2'] = np.array([[0.1, 0.4], [0.2, 0.5], [0.3, 0.6]])\r\n",
    "    network['b2'] = np.array([0.1, 0.2])\r\n",
    "    network['W3'] = np.array([[0.1, 0.3], [0.2, 0.4]])\r\n",
    "    network['b3'] = np.array([0.1, 0.2])\r\n",
    "\r\n",
    "    return network\r\n",
    "\r\n",
    "def forward(network, x):\r\n",
    "    W1, W2, W3 = network['W1'], network['W2'], network['W3']\r\n",
    "    b1, b2, b3 = network['b1'], network['b2'], network['b3']\r\n",
    "\r\n",
    "    a1 = np.dot(x, W1) + b1\r\n",
    "    z1 = sigmoid(a1)\r\n",
    "    a2 = np.dot(z1, W2) + b2\r\n",
    "    z2 = sigmoid(a2)\r\n",
    "    a3 = np.dot(z2, W3) + b3\r\n",
    "    y = identity_function(a3)\r\n",
    "\r\n",
    "    return y\r\n",
    "\r\n",
    "network = init_network()\r\n",
    "x = np.array([1.0, 0.5])\r\n",
    "y = forward(network, x)\r\n",
    "y"
   ],
   "outputs": [
    {
     "output_type": "execute_result",
     "data": {
      "text/plain": [
       "array([0.31682708, 0.69627909])"
      ]
     },
     "metadata": {},
     "execution_count": 19
    }
   ],
   "metadata": {}
  },
  {
   "cell_type": "markdown",
   "source": [
    "## 3.5 출력층 설계하기"
   ],
   "metadata": {}
  },
  {
   "cell_type": "markdown",
   "source": [
    "output layer function  \r\n",
    "regression : identity_function  \r\n",
    "classification: softmax_function"
   ],
   "metadata": {}
  },
  {
   "cell_type": "markdown",
   "source": [
    "### 3.5.1 항등 함수와 소프트맥스 함수 구현하기"
   ],
   "metadata": {}
  },
  {
   "cell_type": "markdown",
   "source": [
    "항등함수: 입력과 출력이 같음  \r\n",
    "소프트맥스 함수 : exp(a)/sum(exp(a)) -> 출력층의 각 뉴런이 모든 입력 신호에서 영향을 받음"
   ],
   "metadata": {}
  },
  {
   "cell_type": "code",
   "execution_count": 20,
   "source": [
    "def softmax(a):\r\n",
    "    exp_a = np.exp(a)\r\n",
    "    sum_exp_a = np.sum(exp_a)\r\n",
    "    y = exp_a / sum_exp_a\r\n",
    "\r\n",
    "    return y"
   ],
   "outputs": [],
   "metadata": {}
  },
  {
   "cell_type": "markdown",
   "source": [
    "### 3.5.2 소프트맥스 함수 구현 시 주의점"
   ],
   "metadata": {}
  },
  {
   "cell_type": "markdown",
   "source": [
    "softmax function은 exp(a)의 값이 매우 커지면 overflow가 일어난다. 따라서 exp(a)를 log를 이용하여 적절히 변형시켜 주어야 한다.  \r\n",
    "-> exp(a)/sum(exp(a)) -> C*exp(a)/C*sum(exp(a)) -> exp(a+log(C))/sum(exp(a+log(C)))  \r\n",
    "-> exp(a+C`)/sum(exp(a+C`))\r\n"
   ],
   "metadata": {}
  },
  {
   "cell_type": "code",
   "execution_count": 21,
   "source": [
    "# prevent overflow\r\n",
    "def softmax(a):\r\n",
    "    c = np.max(a)\r\n",
    "    exp_a = np.exp(a-c)\r\n",
    "    sum_exp_a = np.sum(exp_a)\r\n",
    "    y = exp_a / sum_exp_a\r\n",
    "\r\n",
    "    return y"
   ],
   "outputs": [],
   "metadata": {}
  },
  {
   "cell_type": "code",
   "execution_count": 28,
   "source": [
    "a = np.array([0.3, 2.9, 4.0])\r\n",
    "y = softmax(a)\r\n",
    "y, np.sum(y)"
   ],
   "outputs": [
    {
     "output_type": "execute_result",
     "data": {
      "text/plain": [
       "(array([0.01821127, 0.24519181, 0.73659691]), 1.0)"
      ]
     },
     "metadata": {},
     "execution_count": 28
    }
   ],
   "metadata": {}
  },
  {
   "cell_type": "markdown",
   "source": [
    "-> softmax의 output 총합은 1이 된다. -> output of softmax를 '확률'로 해석할 수 있다."
   ],
   "metadata": {}
  },
  {
   "cell_type": "markdown",
   "source": [
    "### 3.5.4 출력층의 뉴런 수 정하기"
   ],
   "metadata": {}
  },
  {
   "cell_type": "markdown",
   "source": [
    "in classification : 분류 class 수만큼 출력층 뉴런을 set 해야 한다."
   ],
   "metadata": {}
  },
  {
   "cell_type": "markdown",
   "source": [
    "## 3.6 손글씨 숫자 인식"
   ],
   "metadata": {}
  },
  {
   "cell_type": "markdown",
   "source": [
    "### 3.6.1 MNIST 데이터셋"
   ],
   "metadata": {}
  },
  {
   "cell_type": "code",
   "execution_count": 70,
   "source": [
    "from sklearn.model_selection import train_test_split\r\n",
    "import pandas as pd\r\n",
    "\r\n",
    "mnist_data = pd.read_csv('dataset/mnist_data.csv').to_numpy()[:,1:]\r\n",
    "mnist_target = pd.read_csv('dataset/mnist_target.csv').to_numpy()[:, 1:].reshape(-1)\r\n",
    "\r\n",
    "X_train, X_test, y_train, y_test = train_test_split(mnist_data, mnist_target, test_size=1/7)"
   ],
   "outputs": [],
   "metadata": {}
  },
  {
   "cell_type": "code",
   "execution_count": 71,
   "source": [
    "X_train.shape, y_train.shape, X_test.shape, y_test.shape"
   ],
   "outputs": [
    {
     "output_type": "execute_result",
     "data": {
      "text/plain": [
       "((59999, 784), (59999,), (10000, 784), (10000,))"
      ]
     },
     "metadata": {},
     "execution_count": 71
    }
   ],
   "metadata": {}
  },
  {
   "cell_type": "code",
   "execution_count": 69,
   "source": [
    "mnist_data.shape"
   ],
   "outputs": [
    {
     "output_type": "execute_result",
     "data": {
      "text/plain": [
       "(69999, 784)"
      ]
     },
     "metadata": {},
     "execution_count": 69
    }
   ],
   "metadata": {}
  },
  {
   "cell_type": "code",
   "execution_count": 78,
   "source": [
    "import matplotlib.pyplot as plt\r\n",
    "\r\n",
    "def img_show(img):\r\n",
    "    plt.imshow(img, cmap='gray')\r\n",
    "\r\n",
    "img = X_train[0].reshape(28,28)\r\n",
    "label = y_train[0]\r\n",
    "\r\n",
    "img_show(img)\r\n",
    "print(label)"
   ],
   "outputs": [
    {
     "output_type": "stream",
     "name": "stdout",
     "text": [
      "4\n"
     ]
    },
    {
     "output_type": "display_data",
     "data": {
      "text/plain": [
       "<Figure size 432x288 with 1 Axes>"
      ],
      "image/png": "[encoded data removed]"
     },
     "metadata": {
      "needs_background": "light"
     }
    }
   ],
   "metadata": {}
  },
  {
   "cell_type": "code",
   "execution_count": 84,
   "source": [
    "import pandas as pd\r\n",
    "from sklearn.model_selection import train_test_split\r\n",
    "import pickle\r\n",
    "import numpy as np\r\n",
    "\r\n",
    "def sigmoid(x):\r\n",
    "    return 1 / (1 + np.exp(-x))\r\n",
    "\r\n",
    "def softmax(a):\r\n",
    "    c = np.max(a)\r\n",
    "    exp_a = np.exp(a-c)\r\n",
    "    sum_exp_a = np.sum(exp_a)\r\n",
    "    y = exp_a / sum_exp_a\r\n",
    "\r\n",
    "    return y\r\n",
    "\r\n",
    "def get_data():\r\n",
    "    mnist_data = pd.read_csv('dataset/mnist_data.csv').to_numpy()[:,1:]/255.0 #255.0으로 안나누면 overflow 발생\r\n",
    "    mnist_target = pd.read_csv('dataset/mnist_target.csv').to_numpy()[:, 1:].reshape(-1)\r\n",
    "\r\n",
    "    X_train, X_test, y_train, y_test = train_test_split(mnist_data, mnist_target, test_size=1/7)\r\n",
    "\r\n",
    "    return X_test, y_test\r\n",
    "\r\n",
    "def init_network():\r\n",
    "    with open('dataset/sample_weight.pkl', 'rb') as f:\r\n",
    "        network = pickle.load(f)\r\n",
    "\r\n",
    "    return network\r\n",
    "\r\n",
    "def predict(network, X):\r\n",
    "    W1, W2, W3 = network['W1'], network['W2'], network['W3']\r\n",
    "    b1, b2, b3 = network['b1'], network['b2'], network['b3']\r\n",
    "\r\n",
    "    a1 = np.dot(X, W1) + b1\r\n",
    "    z1 = sigmoid(a1)\r\n",
    "    a2 = np.dot(z1, W2) + b2\r\n",
    "    z2 = sigmoid(a2)\r\n",
    "    a3 = np.dot(z2, W3) + b3\r\n",
    "    y = identity_function(a3)\r\n",
    "\r\n",
    "    return y"
   ],
   "outputs": [],
   "metadata": {}
  },
  {
   "cell_type": "code",
   "execution_count": 83,
   "source": [
    "X, t = get_data()\r\n",
    "network = init_network()\r\n",
    "\r\n",
    "accuracy_cnt = 0\r\n",
    "\r\n",
    "for i in range(len(X)):\r\n",
    "    y = predict(network, X[i])\r\n",
    "    p = np.argmax(y)\r\n",
    "    if p == t[i]:\r\n",
    "        accuracy_cnt += 1\r\n",
    "\r\n",
    "print(f'accuracy: {str(float(accuracy_cnt)/len(X))}')"
   ],
   "outputs": [
    {
     "output_type": "stream",
     "name": "stdout",
     "text": [
      "accuracy: 0.9397\n"
     ]
    }
   ],
   "metadata": {}
  },
  {
   "cell_type": "markdown",
   "source": [
    "### 3.6.3 배치 처리"
   ],
   "metadata": {}
  },
  {
   "cell_type": "code",
   "execution_count": 86,
   "source": [
    "# using batch\r\n",
    "X, t = get_data()\r\n",
    "network = init_network()\r\n",
    "\r\n",
    "batch_size = 100\r\n",
    "accuracy_cnt = 0\r\n",
    "\r\n",
    "for i in range(0, len(X), batch_size):\r\n",
    "    X_batch = X[i:i+batch_size]\r\n",
    "    y_batch = predict(network, X_batch)\r\n",
    "    p = np.argmax(y_batch, axis=1)\r\n",
    "    accuracy_cnt += np.sum(p == t[i:i+batch_size])\r\n",
    "\r\n",
    "print(f'accuracy: {str(float(accuracy_cnt)/len(X))}')"
   ],
   "outputs": [
    {
     "output_type": "stream",
     "name": "stdout",
     "text": [
      "accuracy: 0.9348\n"
     ]
    }
   ],
   "metadata": {}
  },
  {
   "cell_type": "markdown",
   "source": [
    "## 3.7 정리"
   ],
   "metadata": {}
  },
  {
   "cell_type": "markdown",
   "source": [
    "-신경망에서는 활성화 함수로 매끄러운 함수 사용  \r\n",
    "-배치 처리하면 빠른 연산 가능"
   ],
   "metadata": {}
  }
 ],
 "metadata": {
  "orig_nbformat": 4,
  "language_info": {
   "name": "python"
  }
 },
 "nbformat": 4,
 "nbformat_minor": 2
}