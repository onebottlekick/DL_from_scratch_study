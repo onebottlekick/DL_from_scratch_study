{
 "cells": [
  {
   "cell_type": "markdown",
   "source": [
    "# chapter 2 (퍼셉트론)"
   ],
   "metadata": {}
  },
  {
   "cell_type": "markdown",
   "source": [
    "퍼셉트론은 Deep Learning의 기원이 되는 algorithm이다."
   ],
   "metadata": {}
  },
  {
   "cell_type": "markdown",
   "source": [
    "## 2.1 퍼셉트론이란?"
   ],
   "metadata": {
    "tags": []
   }
  },
  {
   "cell_type": "markdown",
   "source": [
    "x1, x2 : input signal  \n",
    "y : output signal  \n",
    "w1, w2 : weight  \n",
    "θ(theta) : threshold  "
   ],
   "metadata": {}
  },
  {
   "cell_type": "markdown",
   "source": [
    "<p>\n",
    "    y = 0 (w1*x1 + w2*x2 =< θ)  \n",
    "    <br>\n",
    "    y = 1 (w1*x1 + w2*x2 > θ)\n",
    "</p>"
   ],
   "metadata": {}
  },
  {
   "cell_type": "markdown",
   "source": [
    "## 2.2 단순한 논리 회로"
   ],
   "metadata": {}
  },
  {
   "cell_type": "markdown",
   "source": [
    "### 2.2.1 AND 게이트"
   ],
   "metadata": {}
  },
  {
   "cell_type": "markdown",
   "source": [
    "y = 1 (both x1, x2 == 1)<br>\n",
    "else: y = 0"
   ],
   "metadata": {}
  },
  {
   "cell_type": "markdown",
   "source": [
    "### 2.2.2 NAND 게이트, OR 게이트"
   ],
   "metadata": {}
  },
  {
   "cell_type": "markdown",
   "source": [
    "#### NAND 게이트\n",
    "y = 0 (both x1, x2 == 1)<br>\n",
    "else: y = 1"
   ],
   "metadata": {}
  },
  {
   "cell_type": "markdown",
   "source": [
    "#### OR 게이트\n",
    "y = 0 (both x1, x2 == 0)<br>\n",
    "else: y=1"
   ],
   "metadata": {}
  },
  {
   "cell_type": "markdown",
   "source": [
    "## 2.3 퍼셉트론 구현하기"
   ],
   "metadata": {}
  },
  {
   "cell_type": "markdown",
   "source": [
    "### 2.3.1 간단한 구현부터        "
   ],
   "metadata": {}
  },
  {
   "cell_type": "code",
   "execution_count": 1,
   "source": [
    "def AND(x1, x2):\r\n",
    "    w1, w2, theta = 0.5, 0.5, 0.7\r\n",
    "    tmp = x1*w1 + x2*w2\r\n",
    "    if tmp <= theta:\r\n",
    "        return 0\r\n",
    "    elif tmp > theta:\r\n",
    "        return 1"
   ],
   "outputs": [],
   "metadata": {}
  },
  {
   "cell_type": "code",
   "execution_count": 2,
   "source": [
    "AND(0, 0), AND(1, 0), AND(0, 1), AND(1, 1)"
   ],
   "outputs": [
    {
     "output_type": "execute_result",
     "data": {
      "text/plain": [
       "(0, 0, 0, 1)"
      ]
     },
     "metadata": {},
     "execution_count": 2
    }
   ],
   "metadata": {}
  },
  {
   "cell_type": "markdown",
   "source": [
    "### 2.3.2 가중치와 편향 도입"
   ],
   "metadata": {}
  },
  {
   "cell_type": "markdown",
   "source": [
    "θ를 -b로 치환하면  \n",
    "y = 0 (-b + w1*x1 + w2*x2 =< 0)  \n",
    "y = 1 (-b + w1*x1 + w2*x2 > 0)  \n",
    "b -> bias(편향)"
   ],
   "metadata": {}
  },
  {
   "cell_type": "code",
   "execution_count": 3,
   "source": [
    "import numpy as np\r\n",
    "X = np.array([[0, 1]])\r\n",
    "W = np.array([[0.5, 0.5]])\r\n",
    "b = -0.7\r\n",
    "W.dot(X.T) + b"
   ],
   "outputs": [
    {
     "output_type": "execute_result",
     "data": {
      "text/plain": [
       "array([[-0.2]])"
      ]
     },
     "metadata": {},
     "execution_count": 3
    }
   ],
   "metadata": {}
  },
  {
   "cell_type": "markdown",
   "source": [
    "### 2.3.3 가중치와 편향 구현하기"
   ],
   "metadata": {}
  },
  {
   "cell_type": "code",
   "execution_count": 4,
   "source": [
    "def AND(x1, x2):\r\n",
    "    x = np.array([x1, x2])\r\n",
    "    w = np.array([0.5, 0.5])\r\n",
    "    b = -0.7\r\n",
    "    tmp = np.sum(w*x) + b\r\n",
    "    if tmp <= 0:\r\n",
    "        return 0\r\n",
    "    if tmp > 0:\r\n",
    "        return 1\r\n",
    "\r\n",
    "def NAND(x1, x2):\r\n",
    "    x = np.array([x1, x2])\r\n",
    "    w = np.array([-0.5, -0.5])\r\n",
    "    b = 0.7\r\n",
    "    tmp = np.sum(w*x) + b\r\n",
    "    if tmp <= 0:\r\n",
    "        return 0\r\n",
    "    if tmp > 0:\r\n",
    "        return 1\r\n",
    "    \r\n",
    "def OR(x1, x2):\r\n",
    "    x = np.array([x1, x2])\r\n",
    "    w = np.array([0.5, 0.5])\r\n",
    "    b = -0.2\r\n",
    "    tmp = np.sum(w*x) + b\r\n",
    "    if tmp <= 0:\r\n",
    "        return 0\r\n",
    "    if tmp > 0:\r\n",
    "        return 1"
   ],
   "outputs": [],
   "metadata": {}
  },
  {
   "cell_type": "markdown",
   "source": [
    "위의 코드를 보면 AND 게이트와 NAND 게이트는 w와 b의 부호만 반대이다."
   ],
   "metadata": {}
  },
  {
   "cell_type": "markdown",
   "source": [
    "## 2.4 퍼셉트론의 한계"
   ],
   "metadata": {}
  },
  {
   "cell_type": "markdown",
   "source": [
    "### 2.4.1 도전! XOR 게이트"
   ],
   "metadata": {}
  },
  {
   "cell_type": "markdown",
   "source": [
    "y = 1(only one of x1, x2 == 1)  \n",
    "else: 0"
   ],
   "metadata": {}
  },
  {
   "cell_type": "markdown",
   "source": [
    "### 2.4.2 선형과 비선형"
   ],
   "metadata": {}
  },
  {
   "cell_type": "markdown",
   "source": [
    "퍼셉트론은 XOR 게이트와 같은 비선형 영역을 나눌 수 없다. -> 퍼셉트론의 한계"
   ],
   "metadata": {}
  },
  {
   "cell_type": "markdown",
   "source": [
    "## 2.5 다층 퍼셉트론이 출동한다면"
   ],
   "metadata": {}
  },
  {
   "cell_type": "markdown",
   "source": [
    "### 2.5.1 기존 게이트 조합하기"
   ],
   "metadata": {}
  },
  {
   "cell_type": "markdown",
   "source": [
    "x1, x2를  NAND 게이트와 OR 게이트에 입력하여 출력된 두개의 값을 AND 게이트에 입력하면 XOR 게이트가 된다. "
   ],
   "metadata": {}
  },
  {
   "cell_type": "markdown",
   "source": [
    "### 2.5.2 XOR 게이트 구현하기"
   ],
   "metadata": {}
  },
  {
   "cell_type": "code",
   "execution_count": 5,
   "source": [
    "def XOR(x1, x2):\r\n",
    "    s1 = NAND(x1, x2)\r\n",
    "    s2 = OR(x1, x2)\r\n",
    "    y = AND(s1, s2)\r\n",
    "    return y"
   ],
   "outputs": [],
   "metadata": {}
  },
  {
   "cell_type": "code",
   "execution_count": 6,
   "source": [
    "XOR(0, 0), XOR(1, 0), XOR(0, 1), XOR(1, 1)"
   ],
   "outputs": [
    {
     "output_type": "execute_result",
     "data": {
      "text/plain": [
       "(0, 1, 1, 0)"
      ]
     },
     "metadata": {},
     "execution_count": 6
    }
   ],
   "metadata": {}
  },
  {
   "cell_type": "markdown",
   "source": [
    "## 2.7 정리\n",
    "-퍼셉트론은 입출력을 갖춘 알고리즘이다.  \n",
    "-가중치(w)와 편향(b)를 매개변수로 설정한다.  "
   ],
   "metadata": {}
  },
  {
   "cell_type": "markdown",
   "source": [
    "## Summary\n",
    "AND , NAND, OR : 단층 퍼셉트론  \n",
    "XOR : 다층(2층) 퍼셉트론  \n",
    "=> 다층 퍼셉트론은 비선형적인 영역을 구분할 수 있게 해준다."
   ],
   "metadata": {}
  },
  {
   "cell_type": "code",
   "execution_count": null,
   "source": [],
   "outputs": [],
   "metadata": {}
  }
 ],
 "metadata": {
  "kernelspec": {
   "display_name": "Python 3",
   "language": "python",
   "name": "python3"
  },
  "language_info": {
   "codemirror_mode": {
    "name": "ipython",
    "version": 3
   },
   "file_extension": ".py",
   "mimetype": "text/x-python",
   "name": "python",
   "nbconvert_exporter": "python",
   "pygments_lexer": "ipython3",
   "version": "3.8.6"
  }
 },
 "nbformat": 4,
 "nbformat_minor": 5
}